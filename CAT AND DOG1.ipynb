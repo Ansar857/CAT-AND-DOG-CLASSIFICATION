{
 "cells": [
  {
   "cell_type": "code",
   "execution_count": 1,
   "id": "d8d5fb6a",
   "metadata": {},
   "outputs": [],
   "source": [
    "import os, shutil"
   ]
  },
  {
   "cell_type": "code",
   "execution_count": 2,
   "id": "e74ae8ea",
   "metadata": {},
   "outputs": [],
   "source": [
    "original_dataset_dir = 'I:/CNN/OriginalData'\n",
    "base_dir = 'I:/CNN_WORKING_FOLDER/cats_and_dogs_small'\n",
    "os.mkdir(base_dir)"
   ]
  },
  {
   "cell_type": "code",
   "execution_count": 3,
   "id": "78c62ad0",
   "metadata": {},
   "outputs": [],
   "source": [
    "train_dir = os.path.join(base_dir, 'train')\n",
    "os.mkdir(train_dir)"
   ]
  },
  {
   "cell_type": "code",
   "execution_count": 4,
   "id": "1145eeda",
   "metadata": {},
   "outputs": [],
   "source": [
    "validation_dir = os.path.join(base_dir, 'validation')\n",
    "os.mkdir(validation_dir)"
   ]
  },
  {
   "cell_type": "code",
   "execution_count": 5,
   "id": "26131a34",
   "metadata": {},
   "outputs": [],
   "source": [
    "test_dir = os.path.join(base_dir, 'test')\n",
    "os.mkdir(test_dir)\n",
    "train_cats_dir = os.path.join(train_dir, 'cats')\n",
    "os.mkdir(train_cats_dir)\n",
    "train_dogs_dir = os.path.join(train_dir, 'dogs')\n",
    "os.mkdir(train_dogs_dir)\n",
    "validation_cats_dir = os.path.join(validation_dir, 'cats')\n",
    "os.mkdir(validation_cats_dir)\n",
    "validation_dogs_dir = os.path.join(validation_dir, 'dogs')\n",
    "os.mkdir(validation_dogs_dir)\n",
    "test_cats_dir = os.path.join(test_dir, 'cats')\n",
    "os.mkdir(test_cats_dir)\n",
    "test_dogs_dir = os.path.join(test_dir, 'dogs')\n",
    "os.mkdir(test_dogs_dir)"
   ]
  },
  {
   "cell_type": "code",
   "execution_count": 6,
   "id": "96fe2fa0",
   "metadata": {},
   "outputs": [],
   "source": [
    "fnames = ['cat.{}.jpg'.format(i) for i in range(1000)]\n",
    "for fname in fnames:\n",
    "    src = os.path.join(original_dataset_dir, fname)\n",
    "    dst = os.path.join(train_cats_dir, fname)\n",
    "    shutil.copyfile(src, dst)"
   ]
  },
  {
   "cell_type": "code",
   "execution_count": 7,
   "id": "e455f089",
   "metadata": {},
   "outputs": [],
   "source": [
    "fnames = ['cat.{}.jpg'.format(i) for i in range(1000, 1500)]\n",
    "for fname in fnames:\n",
    "    src = os.path.join(original_dataset_dir, fname)\n",
    "    dst = os.path.join(validation_cats_dir, fname)\n",
    "    shutil.copyfile(src, dst)"
   ]
  },
  {
   "cell_type": "code",
   "execution_count": 8,
   "id": "9716bf93",
   "metadata": {},
   "outputs": [],
   "source": [
    "fnames = ['cat.{}.jpg'.format(i) for i in range(1500, 2000)]\n",
    "for fname in fnames:\n",
    "    src = os.path.join(original_dataset_dir, fname)\n",
    "    dst = os.path.join(test_cats_dir, fname)\n",
    "    shutil.copyfile(src, dst)"
   ]
  },
  {
   "cell_type": "code",
   "execution_count": 9,
   "id": "c8ef44e7",
   "metadata": {},
   "outputs": [],
   "source": [
    "fnames = ['dog.{}.jpg'.format(i) for i in range(1000)]\n",
    "for fname in fnames:\n",
    "    src = os.path.join(original_dataset_dir, fname)\n",
    "    dst = os.path.join(train_dogs_dir, fname)\n",
    "    shutil.copyfile(src, dst)\n",
    "fnames = ['dog.{}.jpg'.format(i) for i in range(1000, 1500)]\n",
    "for fname in fnames:\n",
    "    src = os.path.join(original_dataset_dir, fname)\n",
    "    dst = os.path.join(validation_dogs_dir, fname)\n",
    "    shutil.copyfile(src, dst)\n",
    "fnames = ['dog.{}.jpg'.format(i) for i in range(1500, 2000)]\n",
    "for fname in fnames:\n",
    "    src = os.path.join(original_dataset_dir, fname)\n",
    "    dst = os.path.join(test_dogs_dir, fname)\n",
    "    shutil.copyfile(src, dst)"
   ]
  },
  {
   "cell_type": "code",
   "execution_count": 10,
   "id": "84542078",
   "metadata": {},
   "outputs": [],
   "source": [
    "from keras import layers\n",
    "from keras import models\n",
    "model = models.Sequential()\n",
    "model.add(layers.Conv2D(32, (3, 3), activation='relu',\n",
    "input_shape=(150, 150, 3)))\n",
    "model.add(layers.MaxPooling2D((2, 2)))\n",
    "model.add(layers.Conv2D(64, (3, 3), activation='relu'))\n",
    "model.add(layers.MaxPooling2D((2, 2)))\n",
    "model.add(layers.Conv2D(128, (3, 3), activation='relu'))\n",
    "model.add(layers.MaxPooling2D((2, 2)))\n",
    "model.add(layers.Conv2D(128, (3, 3), activation='relu'))\n",
    "model.add(layers.MaxPooling2D((2, 2)))\n",
    "model.add(layers.Flatten())\n",
    "model.add(layers.Dense(512, activation='relu'))\n",
    "model.add(layers.Dense(1, activation='sigmoid'))"
   ]
  },
  {
   "cell_type": "code",
   "execution_count": 11,
   "id": "4b23a0f6",
   "metadata": {},
   "outputs": [
    {
     "name": "stdout",
     "output_type": "stream",
     "text": [
      "Model: \"sequential\"\n",
      "_________________________________________________________________\n",
      "Layer (type)                 Output Shape              Param #   \n",
      "=================================================================\n",
      "conv2d (Conv2D)              (None, 148, 148, 32)      896       \n",
      "_________________________________________________________________\n",
      "max_pooling2d (MaxPooling2D) (None, 74, 74, 32)        0         \n",
      "_________________________________________________________________\n",
      "conv2d_1 (Conv2D)            (None, 72, 72, 64)        18496     \n",
      "_________________________________________________________________\n",
      "max_pooling2d_1 (MaxPooling2 (None, 36, 36, 64)        0         \n",
      "_________________________________________________________________\n",
      "conv2d_2 (Conv2D)            (None, 34, 34, 128)       73856     \n",
      "_________________________________________________________________\n",
      "max_pooling2d_2 (MaxPooling2 (None, 17, 17, 128)       0         \n",
      "_________________________________________________________________\n",
      "conv2d_3 (Conv2D)            (None, 15, 15, 128)       147584    \n",
      "_________________________________________________________________\n",
      "max_pooling2d_3 (MaxPooling2 (None, 7, 7, 128)         0         \n",
      "_________________________________________________________________\n",
      "flatten (Flatten)            (None, 6272)              0         \n",
      "_________________________________________________________________\n",
      "dense (Dense)                (None, 512)               3211776   \n",
      "_________________________________________________________________\n",
      "dense_1 (Dense)              (None, 1)                 513       \n",
      "=================================================================\n",
      "Total params: 3,453,121\n",
      "Trainable params: 3,453,121\n",
      "Non-trainable params: 0\n",
      "_________________________________________________________________\n"
     ]
    }
   ],
   "source": [
    "model.summary()\n"
   ]
  },
  {
   "cell_type": "code",
   "execution_count": 16,
   "id": "badc3683",
   "metadata": {},
   "outputs": [],
   "source": [
    "from keras import optimizers\n",
    "\n",
    "model.compile(loss='binary_crossentropy',\n",
    "optimizer=optimizers.RMSprop(lr=1e-4),\n",
    "metrics=['acc'])\n"
   ]
  },
  {
   "cell_type": "code",
   "execution_count": 17,
   "id": "b353f590",
   "metadata": {},
   "outputs": [
    {
     "name": "stdout",
     "output_type": "stream",
     "text": [
      "Found 2000 images belonging to 2 classes.\n",
      "Found 1000 images belonging to 2 classes.\n"
     ]
    }
   ],
   "source": [
    "from keras.preprocessing.image import ImageDataGenerator\n",
    "train_datagen = ImageDataGenerator(rescale=1./255)\n",
    "test_datagen = ImageDataGenerator(rescale=1./255)\n",
    "train_generator = train_datagen.flow_from_directory(\n",
    "    train_dir,\n",
    "    target_size=(150, 150),\n",
    "    batch_size=20,\n",
    "    class_mode='binary')\n",
    "validation_generator = test_datagen.flow_from_directory(\n",
    "    validation_dir,\n",
    "    target_size=(150, 150),\n",
    "    batch_size=20,\n",
    "    class_mode='binary')"
   ]
  },
  {
   "cell_type": "code",
   "execution_count": 14,
   "id": "61702636",
   "metadata": {},
   "outputs": [
    {
     "name": "stdout",
     "output_type": "stream",
     "text": [
      "data batch shape: (20, 150, 150, 3)\n",
      "labels batch shape: (20,)\n"
     ]
    }
   ],
   "source": [
    "for data_batch, labels_batch in train_generator:\n",
    "    print('data batch shape:', data_batch.shape)\n",
    "    print('labels batch shape:', labels_batch.shape)\n",
    "    break"
   ]
  },
  {
   "cell_type": "code",
   "execution_count": 15,
   "id": "69bb8cfd",
   "metadata": {},
   "outputs": [
    {
     "name": "stderr",
     "output_type": "stream",
     "text": [
      "F:\\Anaconda3\\lib\\site-packages\\keras\\engine\\training.py:1915: UserWarning: `Model.fit_generator` is deprecated and will be removed in a future version. Please use `Model.fit`, which supports generators.\n",
      "  warnings.warn('`Model.fit_generator` is deprecated and '\n"
     ]
    },
    {
     "name": "stdout",
     "output_type": "stream",
     "text": [
      "Epoch 1/30\n",
      "100/100 [==============================] - 167s 1s/step - loss: 0.7026 - acc: 0.4905 - val_loss: 0.6708 - val_acc: 0.5920\n",
      "Epoch 2/30\n",
      "100/100 [==============================] - 115s 1s/step - loss: 0.6715 - acc: 0.5675 - val_loss: 0.6735 - val_acc: 0.5640\n",
      "Epoch 3/30\n",
      "100/100 [==============================] - 112s 1s/step - loss: 0.6242 - acc: 0.6593 - val_loss: 0.6138 - val_acc: 0.6540\n",
      "Epoch 4/30\n",
      "100/100 [==============================] - 117s 1s/step - loss: 0.5843 - acc: 0.6810 - val_loss: 0.6265 - val_acc: 0.6370\n",
      "Epoch 5/30\n",
      "100/100 [==============================] - 120s 1s/step - loss: 0.5295 - acc: 0.7316 - val_loss: 0.5851 - val_acc: 0.6900\n",
      "Epoch 6/30\n",
      "100/100 [==============================] - 112s 1s/step - loss: 0.5177 - acc: 0.7510 - val_loss: 0.5699 - val_acc: 0.7070\n",
      "Epoch 7/30\n",
      "100/100 [==============================] - 111s 1s/step - loss: 0.4710 - acc: 0.7733 - val_loss: 0.5958 - val_acc: 0.6750\n",
      "Epoch 8/30\n",
      "100/100 [==============================] - 109s 1s/step - loss: 0.4589 - acc: 0.7828 - val_loss: 0.5663 - val_acc: 0.7140\n",
      "Epoch 9/30\n",
      "100/100 [==============================] - 107s 1s/step - loss: 0.4410 - acc: 0.7962 - val_loss: 0.5442 - val_acc: 0.7190\n",
      "Epoch 10/30\n",
      "100/100 [==============================] - 106s 1s/step - loss: 0.4009 - acc: 0.8227 - val_loss: 0.5514 - val_acc: 0.7290\n",
      "Epoch 11/30\n",
      "100/100 [==============================] - 106s 1s/step - loss: 0.3621 - acc: 0.8379 - val_loss: 0.6342 - val_acc: 0.6920\n",
      "Epoch 12/30\n",
      "100/100 [==============================] - 106s 1s/step - loss: 0.3506 - acc: 0.8438 - val_loss: 0.5434 - val_acc: 0.7280\n",
      "Epoch 13/30\n",
      "100/100 [==============================] - 106s 1s/step - loss: 0.3188 - acc: 0.8624 - val_loss: 0.5572 - val_acc: 0.7440\n",
      "Epoch 14/30\n",
      "100/100 [==============================] - 106s 1s/step - loss: 0.3054 - acc: 0.8600 - val_loss: 0.6130 - val_acc: 0.7310\n",
      "Epoch 15/30\n",
      "100/100 [==============================] - 106s 1s/step - loss: 0.2846 - acc: 0.8849 - val_loss: 0.5857 - val_acc: 0.7430\n",
      "Epoch 16/30\n",
      "100/100 [==============================] - 106s 1s/step - loss: 0.2517 - acc: 0.9047 - val_loss: 0.5966 - val_acc: 0.7330\n",
      "Epoch 17/30\n",
      "100/100 [==============================] - 108s 1s/step - loss: 0.2338 - acc: 0.9179 - val_loss: 0.6133 - val_acc: 0.7360\n",
      "Epoch 18/30\n",
      "100/100 [==============================] - 108s 1s/step - loss: 0.2003 - acc: 0.9248 - val_loss: 0.6940 - val_acc: 0.7190\n",
      "Epoch 19/30\n",
      "100/100 [==============================] - 108s 1s/step - loss: 0.1932 - acc: 0.9271 - val_loss: 0.6601 - val_acc: 0.7320\n",
      "Epoch 20/30\n",
      "100/100 [==============================] - 108s 1s/step - loss: 0.1812 - acc: 0.9344 - val_loss: 0.6741 - val_acc: 0.7230\n",
      "Epoch 21/30\n",
      "100/100 [==============================] - 105s 1s/step - loss: 0.1453 - acc: 0.9494 - val_loss: 0.7161 - val_acc: 0.7390\n",
      "Epoch 22/30\n",
      "100/100 [==============================] - 105s 1s/step - loss: 0.1420 - acc: 0.9519 - val_loss: 0.7404 - val_acc: 0.7310\n",
      "Epoch 23/30\n",
      "100/100 [==============================] - 105s 1s/step - loss: 0.1185 - acc: 0.9588 - val_loss: 0.7601 - val_acc: 0.7390\n",
      "Epoch 24/30\n",
      "100/100 [==============================] - 104s 1s/step - loss: 0.1102 - acc: 0.9572 - val_loss: 0.8075 - val_acc: 0.7170\n",
      "Epoch 25/30\n",
      "100/100 [==============================] - 104s 1s/step - loss: 0.0929 - acc: 0.9675 - val_loss: 1.1024 - val_acc: 0.6770\n",
      "Epoch 26/30\n",
      "100/100 [==============================] - 104s 1s/step - loss: 0.0789 - acc: 0.9769 - val_loss: 0.8313 - val_acc: 0.7330\n",
      "Epoch 27/30\n",
      "100/100 [==============================] - 104s 1s/step - loss: 0.0589 - acc: 0.9865 - val_loss: 0.8538 - val_acc: 0.7270\n",
      "Epoch 28/30\n",
      "100/100 [==============================] - 106s 1s/step - loss: 0.0566 - acc: 0.9810 - val_loss: 0.9022 - val_acc: 0.7340\n",
      "Epoch 29/30\n",
      "100/100 [==============================] - 111s 1s/step - loss: 0.0587 - acc: 0.9808 - val_loss: 1.0261 - val_acc: 0.7310\n",
      "Epoch 30/30\n",
      "100/100 [==============================] - 108s 1s/step - loss: 0.0389 - acc: 0.9890 - val_loss: 1.0402 - val_acc: 0.7250\n"
     ]
    }
   ],
   "source": [
    "history = model.fit_generator(\n",
    "train_generator,\n",
    "steps_per_epoch=100,\n",
    "epochs=30,\n",
    "validation_data=validation_generator,\n",
    "validation_steps=50)"
   ]
  },
  {
   "cell_type": "code",
   "execution_count": null,
   "id": "60a0d770",
   "metadata": {},
   "outputs": [],
   "source": []
  }
 ],
 "metadata": {
  "kernelspec": {
   "display_name": "Python 3",
   "language": "python",
   "name": "python3"
  },
  "language_info": {
   "codemirror_mode": {
    "name": "ipython",
    "version": 3
   },
   "file_extension": ".py",
   "mimetype": "text/x-python",
   "name": "python",
   "nbconvert_exporter": "python",
   "pygments_lexer": "ipython3",
   "version": "3.8.8"
  }
 },
 "nbformat": 4,
 "nbformat_minor": 5
}
